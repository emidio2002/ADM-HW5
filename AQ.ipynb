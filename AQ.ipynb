{
 "cells": [
  {
   "cell_type": "markdown",
   "metadata": {},
   "source": [
    "# 7. Algorithm Question"
   ]
  },
  {
   "cell_type": "markdown",
   "metadata": {},
   "source": [
    "Arya needs to travel between cities using a network of flights. Each flight has a fixed cost (in euros), and she wants to find the cheapest possible way to travel from her starting city to her destination city. However, there are some constraints on the journey:\n",
    "\n",
    "1. Arya can make at most `k` stops during her trip (this means up to `k+1` flights).\n",
    "2. If no valid route exists within these constraints, the result should be `-1`.\n",
    "\n",
    "Given a graph of cities connected by flights, your job is to find the minimum cost for Arya to travel between two specified cities (`src` to `dst`) while following the constraints. "
   ]
  },
  {
   "cell_type": "markdown",
   "metadata": {},
   "source": [
    "## 7.1 \n",
    "\n",
    "Write a pseudocode that describes the algorithm to find the cheapest route with at most `k` stops. \n"
   ]
  },
  {
   "cell_type": "markdown",
   "metadata": {},
   "source": [
    "\n",
    "```plaintext\n",
    "FUNCTION find_cheapest_price(G, src, dst, k)\n",
    "\n",
    "    FOR each vertex v in G:\n",
    "        cost(v) = inf\n",
    "\n",
    "    cost(src) = 0\n",
    "        \n",
    "    H = makequeue((0, src, 0))  # (cost, node, steps)\n",
    "\n",
    "    while H is not empty:\n",
    "        u_cost, u, steps = deletemin(H)\n",
    "        \n",
    "        IF u is dest THEN:\n",
    "            return u_cost\n",
    "\n",
    "        IF steps is more than k THEN:\n",
    "            continue\n",
    "\n",
    "        FOR each neighbor v of u in G:\n",
    "            new_cost = u_cost + weight(u,v)\n",
    "            IF new_cost is less than cost(v) THEN:\n",
    "                cost(v) = new_cost\n",
    "                enqueue_or_update(H, (new_cost, v, steps + 1))\n",
    "\n",
    "    return -1\n",
    "\n",
    "```"
   ]
  },
  {
   "cell_type": "markdown",
   "metadata": {},
   "source": [
    "To find the minimum cost of traveling from the starting city `src` to the destination city `dst` in the graph, we implemented Dijkstra's algorithm. In doing so, we modified the original algorithm to account for the maximum number of stops allowed along the route between the two cities, and to terminate once the destination city is reached.\n",
    "\n",
    "Dijkstra's algorithm is a classic algorithm used for finding the shortest path between nodes in a weighted graph. It operates by maintaining a priority queue to explore the graph iteratively, always choosing the node with the smallest known distance from the source. The algorithm updates the tentative distances of neighboring nodes, ensuring that the shortest path to each node is determined efficiently.\n",
    "\n",
    "In our adaptation, we incorporated an additional constraint: the maximum allowable stops. This required tracking not only the current cost and distance but also the number of stops made along the route. If the number of stops exceeded the allowed limit, the algorithm ceased exploring further paths from that node. Additionally, we optimized the implementation to halt as soon as the destination node was encountered, minimizing unnecessary computations."
   ]
  },
  {
   "cell_type": "markdown",
   "metadata": {},
   "source": [
    "## 7.2\n",
    "\n",
    "Now we implement the algorithm in Python and simulate the given test cases.\n",
    "\n",
    "In implementing the priority queue, we use a `heapq`, which is based on a binary heap to ensure efficiency.\n",
    "\n",
    "\n",
    "\n"
   ]
  },
  {
   "cell_type": "code",
   "execution_count": 7,
   "metadata": {},
   "outputs": [],
   "source": [
    "import heapq\n",
    "\n",
    "def find_cheapest_price(n, flights, src, dst, k):\n",
    "\n",
    "    # Create a graph with the given flights\n",
    "    G = {i: [] for i in range(n)}\n",
    "    for u, v, w in flights:\n",
    "        G[u].append((v, w))\n",
    "\n",
    "    cost = {u: float('inf') for u in G}\n",
    "    cost[src] = 0\n",
    "\n",
    "    H = [(0, src, 0)] # (cost, node, stops)\n",
    "    heapq.heapify(H)\n",
    "\n",
    "    while H:\n",
    "        u_cost, u, steps = heapq.heappop(H)\n",
    "\n",
    "        if u == dst:\n",
    "            return u_cost\n",
    "\n",
    "        if steps > k:\n",
    "            continue\n",
    "\n",
    "        for v, w in G[u]:\n",
    "\n",
    "            new_cost = u_cost + w\n",
    "\n",
    "            if new_cost < cost[v]:\n",
    "                cost[v] = new_cost\n",
    "                heapq.heappush(H, (new_cost, v, steps + 1))\n",
    "\n",
    "    return -1\n"
   ]
  },
  {
   "cell_type": "code",
   "execution_count": 8,
   "metadata": {},
   "outputs": [
    {
     "name": "stdout",
     "output_type": "stream",
     "text": [
      "700\n"
     ]
    }
   ],
   "source": [
    "# Test case 1\n",
    "n = 4  \n",
    "flights = [[0, 1, 100], [1, 2, 100], [2, 0, 100], [1, 3, 600], [2, 3, 200]]  \n",
    "src = 0  \n",
    "dst = 3  \n",
    "k = 1 \n",
    "\n",
    "print(find_cheapest_price(n, flights, src, dst, k))"
   ]
  },
  {
   "cell_type": "code",
   "execution_count": 9,
   "metadata": {},
   "outputs": [
    {
     "name": "stdout",
     "output_type": "stream",
     "text": [
      "200\n"
     ]
    }
   ],
   "source": [
    "# Test case 2\n",
    "n = 3  \n",
    "flights = [[0, 1, 100], [1, 2, 100], [0, 2, 500]]  \n",
    "src = 0  \n",
    "dst = 2  \n",
    "k = 1  \n",
    "\n",
    "print(find_cheapest_price(n, flights, src, dst, k))"
   ]
  },
  {
   "cell_type": "code",
   "execution_count": 10,
   "metadata": {},
   "outputs": [
    {
     "name": "stdout",
     "output_type": "stream",
     "text": [
      "500\n"
     ]
    }
   ],
   "source": [
    "# Test case 3\n",
    "n = 3  \n",
    "flights = [[0, 1, 100], [1, 2, 100], [0, 2, 500]]  \n",
    "src = 0  \n",
    "dst = 2  \n",
    "k = 0  \n",
    "\n",
    "print(find_cheapest_price(n, flights, src, dst, k))"
   ]
  },
  {
   "cell_type": "code",
   "execution_count": 11,
   "metadata": {},
   "outputs": [
    {
     "name": "stdout",
     "output_type": "stream",
     "text": [
      "400\n"
     ]
    }
   ],
   "source": [
    "# Test case 4\n",
    "n = 4  \n",
    "flights = [[0, 1, 100], [0, 2, 200], [1, 3, 300], [2, 3, 300]]  \n",
    "src = 0  \n",
    "dst = 3  \n",
    "k = 2  \n",
    "\n",
    "print(find_cheapest_price(n, flights, src, dst, k))"
   ]
  },
  {
   "cell_type": "code",
   "execution_count": 12,
   "metadata": {},
   "outputs": [
    {
     "name": "stdout",
     "output_type": "stream",
     "text": [
      "400\n"
     ]
    }
   ],
   "source": [
    "# Test case 5\n",
    "n = 4  \n",
    "flights = [[0, 1, 100], [0, 2, 200], [1, 3, 300], [2, 3, 200]]  \n",
    "src = 0  \n",
    "dst = 3  \n",
    "k = 2  \n",
    "\n",
    "print(find_cheapest_price(n, flights, src, dst, k))"
   ]
  },
  {
   "cell_type": "markdown",
   "metadata": {},
   "source": [
    "## 7.3\n",
    "\n",
    "Analyze the algorithm's efficiency. Provide its time complexity and space complexity, and explain whether it is efficient for large graphs (e.g., `n > 100`)."
   ]
  },
  {
   "cell_type": "markdown",
   "metadata": {},
   "source": [
    "### Time Complexity\n",
    "\n",
    "The given algorithm implements a modified version of Dijkstra's algorithm to find the cheapest flight path within k stops. \n",
    "\n",
    "The initialization phase has a complexity of $O(N + E)$, where $N$ is the number of nodes and $E$ is the number of edges (flights). This comes from creating the adjacency list graph representation and initializing the cost dictionary.\n",
    "\n",
    "The main computation happens in the while loop that processes nodes from the priority queue. For each node in the graph, we can visit it up to $k+1$ times (representing 0 to $k$ stops). This means a single node might appear in the queue multiple times, each time with a different number of stops taken to reach it. With $N$ nodes that can each be processed up to $k+1$ times, the maximum number of elements that can ever be in the priority queue is $O(N \\cdot k)$ .\n",
    "For each node processing, we perform a heap removal operation that takes $O(\\log(N \\cdot k))$ time. We then examine all outgoing edges from that node, which on average is $O(\\frac{E}{N})$ edges per node in a typical graph. For each edge examined, we might perform a heap insertion operation, also taking $O(\\log(N \\cdot k))$ time.\n",
    "\n",
    "Therefore, the total time complexity is: \n",
    "$\n",
    "O(k \\cdot E \\cdot \\log(N \\cdot k))\n",
    "$\n",
    "\n",
    "### Space Complexity\n",
    "\n",
    "The space complexity is determined by:\n",
    "\n",
    "- The graph is stored in an adjacency list, which uses $O(E)$ space, where $E$ is the number of edges.\n",
    "  \n",
    "- The priority queue (heap) will hold up to $O(k \\cdot N)$ elements at worst. Thus, it takes $O(k \\cdot N)$ space.\n",
    "\n",
    "- The dictionary holds the cost for each node. There are $N$ nodes, so it takes $O(N)$ space.\n",
    "\n",
    "So, the total space complexity is $O(E) + O(N) + O(k \\cdot N)$ and can be approximated to $O(E) + O(k \\cdot N)$.\n"
   ]
  },
  {
   "cell_type": "markdown",
   "metadata": {},
   "source": [
    "### RISPOSTA DI CLAUDE AI\n",
    "\n",
    "Let's analyze whether this algorithm is efficient for large graphs with n > 100:\n",
    "For large graphs, this algorithm may become inefficient for several reasons:\n",
    "\n",
    "The time complexity of O(k×E×log(N×k)) grows significantly when:\n",
    "\n",
    "E increases (more flights/edges)\n",
    "k increases (more allowed stops)\n",
    "N increases (more airports/nodes)\n",
    "\n",
    "\n",
    "Real-world considerations:\n",
    "\n",
    "For a dense graph where E approaches N², the complexity becomes O(k×N²×log(N×k))\n",
    "Even for sparse graphs where E ≈ N, it's still O(k×N×log(N×k))\n",
    "The priority queue operations (log(N×k)) become more expensive as N grows\n",
    "\n",
    "\n",
    "Practical limitations:\n",
    "\n",
    "Memory usage grows with both N and E\n",
    "The algorithm explores many paths that may not lead to optimal solutions\n",
    "No early stopping mechanism means it continues even after finding good paths\n",
    "\n",
    "\n",
    "\n",
    "For graphs where n > 100, performance will heavily depend on:\n",
    "\n",
    "Graph density (number of flights per airport)\n",
    "Value of k (maximum allowed stops)\n",
    "Distribution of flight costs\n"
   ]
  },
  {
   "cell_type": "markdown",
   "metadata": {},
   "source": [
    "## 7.4 \n",
    "\n",
    "Optimize the algorithm to handle larger graphs. Provide an updated pseudocode and analyze the computational complexity of your optimization.\n"
   ]
  },
  {
   "cell_type": "markdown",
   "metadata": {},
   "source": [
    "\n",
    "## 7.5\n",
    "\n",
    "Ask LLM (e.g., ChatGPT) for an optimized version of your algorithm. Compare its solution to yours in terms of performance, time complexity, and correctness."
   ]
  }
 ],
 "metadata": {
  "kernelspec": {
   "display_name": "Python 3",
   "language": "python",
   "name": "python3"
  },
  "language_info": {
   "codemirror_mode": {
    "name": "ipython",
    "version": 3
   },
   "file_extension": ".py",
   "mimetype": "text/x-python",
   "name": "python",
   "nbconvert_exporter": "python",
   "pygments_lexer": "ipython3",
   "version": "3.11.9"
  }
 },
 "nbformat": 4,
 "nbformat_minor": 2
}
